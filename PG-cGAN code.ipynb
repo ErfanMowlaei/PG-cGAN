{
 "cells": [
  {
   "cell_type": "markdown",
   "metadata": {
    "toc": true
   },
   "source": [
    "<h1>Table of Contents<span class=\"tocSkip\"></span></h1>\n",
    "<div class=\"toc\"><ul class=\"toc-item\"><li><span><a href=\"#Data\" data-toc-modified-id=\"Data-1\"><span class=\"toc-item-num\">1&nbsp;&nbsp;</span>Data</a></span><ul class=\"toc-item\"><li><span><a href=\"#Load-genotype\" data-toc-modified-id=\"Load-genotype-1.1\"><span class=\"toc-item-num\">1.1&nbsp;&nbsp;</span>Load genotype</a></span></li><li><span><a href=\"#Load-Pedigree\" data-toc-modified-id=\"Load-Pedigree-1.2\"><span class=\"toc-item-num\">1.2&nbsp;&nbsp;</span>Load Pedigree</a></span></li><li><span><a href=\"#Training-dataset\" data-toc-modified-id=\"Training-dataset-1.3\"><span class=\"toc-item-num\">1.3&nbsp;&nbsp;</span>Training dataset</a></span></li></ul></li><li><span><a href=\"#Build-GAN\" data-toc-modified-id=\"Build-GAN-2\"><span class=\"toc-item-num\">2&nbsp;&nbsp;</span>Build GAN</a></span><ul class=\"toc-item\"><li><span><a href=\"#Generator\" data-toc-modified-id=\"Generator-2.1\"><span class=\"toc-item-num\">2.1&nbsp;&nbsp;</span>Generator</a></span></li><li><span><a href=\"#Discriminator\" data-toc-modified-id=\"Discriminator-2.2\"><span class=\"toc-item-num\">2.2&nbsp;&nbsp;</span>Discriminator</a></span></li><li><span><a href=\"#Loss\" data-toc-modified-id=\"Loss-2.3\"><span class=\"toc-item-num\">2.3&nbsp;&nbsp;</span>Loss</a></span></li><li><span><a href=\"#Optimizer\" data-toc-modified-id=\"Optimizer-2.4\"><span class=\"toc-item-num\">2.4&nbsp;&nbsp;</span>Optimizer</a></span></li></ul></li><li><span><a href=\"#Training\" data-toc-modified-id=\"Training-3\"><span class=\"toc-item-num\">3&nbsp;&nbsp;</span>Training</a></span></li></ul></div>"
   ]
  },
  {
   "cell_type": "code",
   "execution_count": 1,
   "metadata": {
    "colab": {
     "base_uri": "https://localhost:8080/",
     "height": 51
    },
    "colab_type": "code",
    "id": "7heGNeSW4Lta",
    "outputId": "342a7962-441c-43fe-fe51-0c38fbc15530"
   },
   "outputs": [
    {
     "data": {
      "text/plain": [
       "'2.0.0'"
      ]
     },
     "execution_count": 1,
     "metadata": {},
     "output_type": "execute_result"
    }
   ],
   "source": [
    "import os\n",
    "import glob\n",
    "import time\n",
    "import PIL\n",
    "import imageio\n",
    "import pickle\n",
    "from IPython import display\n",
    "\n",
    "import numpy as np\n",
    "import pandas as pd\n",
    "import seaborn as sns\n",
    "\n",
    "from matplotlib import pyplot as plt\n",
    "import matplotlib.cm as cm\n",
    "from matplotlib.colors import ListedColormap\n",
    "\n",
    "from sklearn.preprocessing import MinMaxScaler\n",
    "from sklearn.utils import resample\n",
    "\n",
    "import tensorflow as tf\n",
    "from tensorflow.keras import datasets, layers, Sequential, Model\n",
    "from tensorflow.keras.utils import to_categorical\n",
    "from tensorflow.keras import initializers, activations, regularizers, constraints\n",
    "from tensorflow.keras.layers import InputSpec\n",
    "import tensorflow.keras.backend as K\n",
    "\n",
    "tf.__version__"
   ]
  },
  {
   "cell_type": "code",
   "execution_count": 2,
   "metadata": {},
   "outputs": [],
   "source": [
    "# Set environment variables\n",
    "os.environ['CUDA_VISIBLE_DEVICES'] = '6'\n",
    "\n",
    "# On DGX-1 you might need to set the following environment variable for maximum performance:\n",
    "os.environ['NCCL_TOPOLOGY'] = 'CUBEMESH'"
   ]
  },
  {
   "cell_type": "code",
   "execution_count": 3,
   "metadata": {},
   "outputs": [],
   "source": [
    "gpus = tf.config.experimental.list_physical_devices('GPU')\n",
    "tf.config.experimental.set_memory_growth(gpus[0], True)"
   ]
  },
  {
   "cell_type": "markdown",
   "metadata": {
    "colab_type": "text",
    "id": "DwON8HAsxVDl"
   },
   "source": [
    "# Data"
   ]
  },
  {
   "cell_type": "markdown",
   "metadata": {
    "colab_type": "text",
    "id": "tTu9kSqI4Ltz"
   },
   "source": [
    "## Load genotype"
   ]
  },
  {
   "cell_type": "code",
   "execution_count": 4,
   "metadata": {
    "colab": {
     "base_uri": "https://localhost:8080/",
     "height": 34
    },
    "colab_type": "code",
    "id": "_2oS9Ve9026g",
    "outputId": "d884dee1-1b73-496f-e8d3-f41d330aef5f"
   },
   "outputs": [
    {
     "name": "stdout",
     "output_type": "stream",
     "text": [
      "genotype_file shape: (7161, 2513)\n"
     ]
    }
   ],
   "source": [
    "# load data\n",
    "vcf_file = 'data/HLA.recode.vcf'\n",
    "\n",
    "# get header\n",
    "with open(vcf_file,'r') as f_in:\n",
    "    # skip info\n",
    "    for line_num in range(252):\n",
    "        f_in.readline()\n",
    "    \n",
    "    line=f_in.readline()\n",
    "# print(line.strip().split('\\t'))\n",
    "\n",
    "# load genotype\n",
    "genotype = pd.read_csv(vcf_file, comment='#', sep='\\t', names=line.strip().split('\\t'))\n",
    "print('genotype_file shape:', genotype.shape)"
   ]
  },
  {
   "cell_type": "code",
   "execution_count": 5,
   "metadata": {},
   "outputs": [
    {
     "data": {
      "text/html": [
       "<div>\n",
       "<style scoped>\n",
       "    .dataframe tbody tr th:only-of-type {\n",
       "        vertical-align: middle;\n",
       "    }\n",
       "\n",
       "    .dataframe tbody tr th {\n",
       "        vertical-align: top;\n",
       "    }\n",
       "\n",
       "    .dataframe thead th {\n",
       "        text-align: right;\n",
       "    }\n",
       "</style>\n",
       "<table border=\"1\" class=\"dataframe\">\n",
       "  <thead>\n",
       "    <tr style=\"text-align: right;\">\n",
       "      <th></th>\n",
       "      <th>0</th>\n",
       "      <th>1</th>\n",
       "      <th>2</th>\n",
       "      <th>3</th>\n",
       "      <th>4</th>\n",
       "      <th>5</th>\n",
       "      <th>6</th>\n",
       "      <th>7</th>\n",
       "      <th>8</th>\n",
       "      <th>9</th>\n",
       "      <th>...</th>\n",
       "      <th>7151</th>\n",
       "      <th>7152</th>\n",
       "      <th>7153</th>\n",
       "      <th>7154</th>\n",
       "      <th>7155</th>\n",
       "      <th>7156</th>\n",
       "      <th>7157</th>\n",
       "      <th>7158</th>\n",
       "      <th>7159</th>\n",
       "      <th>7160</th>\n",
       "    </tr>\n",
       "  </thead>\n",
       "  <tbody>\n",
       "    <tr>\n",
       "      <th>HG00096</th>\n",
       "      <td>0</td>\n",
       "      <td>0</td>\n",
       "      <td>0</td>\n",
       "      <td>0</td>\n",
       "      <td>0</td>\n",
       "      <td>0</td>\n",
       "      <td>0</td>\n",
       "      <td>0</td>\n",
       "      <td>0</td>\n",
       "      <td>0</td>\n",
       "      <td>...</td>\n",
       "      <td>0</td>\n",
       "      <td>0</td>\n",
       "      <td>0</td>\n",
       "      <td>0</td>\n",
       "      <td>0</td>\n",
       "      <td>0</td>\n",
       "      <td>0</td>\n",
       "      <td>0</td>\n",
       "      <td>0</td>\n",
       "      <td>0</td>\n",
       "    </tr>\n",
       "    <tr>\n",
       "      <th>HG00097</th>\n",
       "      <td>0</td>\n",
       "      <td>2</td>\n",
       "      <td>2</td>\n",
       "      <td>0</td>\n",
       "      <td>2</td>\n",
       "      <td>0</td>\n",
       "      <td>0</td>\n",
       "      <td>0</td>\n",
       "      <td>0</td>\n",
       "      <td>2</td>\n",
       "      <td>...</td>\n",
       "      <td>1</td>\n",
       "      <td>1</td>\n",
       "      <td>1</td>\n",
       "      <td>1</td>\n",
       "      <td>0</td>\n",
       "      <td>1</td>\n",
       "      <td>1</td>\n",
       "      <td>1</td>\n",
       "      <td>1</td>\n",
       "      <td>0</td>\n",
       "    </tr>\n",
       "    <tr>\n",
       "      <th>HG00099</th>\n",
       "      <td>0</td>\n",
       "      <td>1</td>\n",
       "      <td>0</td>\n",
       "      <td>0</td>\n",
       "      <td>0</td>\n",
       "      <td>0</td>\n",
       "      <td>0</td>\n",
       "      <td>0</td>\n",
       "      <td>0</td>\n",
       "      <td>0</td>\n",
       "      <td>...</td>\n",
       "      <td>3</td>\n",
       "      <td>3</td>\n",
       "      <td>3</td>\n",
       "      <td>3</td>\n",
       "      <td>0</td>\n",
       "      <td>3</td>\n",
       "      <td>3</td>\n",
       "      <td>3</td>\n",
       "      <td>3</td>\n",
       "      <td>0</td>\n",
       "    </tr>\n",
       "    <tr>\n",
       "      <th>HG00100</th>\n",
       "      <td>0</td>\n",
       "      <td>1</td>\n",
       "      <td>1</td>\n",
       "      <td>0</td>\n",
       "      <td>1</td>\n",
       "      <td>0</td>\n",
       "      <td>0</td>\n",
       "      <td>0</td>\n",
       "      <td>0</td>\n",
       "      <td>1</td>\n",
       "      <td>...</td>\n",
       "      <td>1</td>\n",
       "      <td>1</td>\n",
       "      <td>1</td>\n",
       "      <td>1</td>\n",
       "      <td>0</td>\n",
       "      <td>1</td>\n",
       "      <td>1</td>\n",
       "      <td>1</td>\n",
       "      <td>1</td>\n",
       "      <td>0</td>\n",
       "    </tr>\n",
       "    <tr>\n",
       "      <th>HG00101</th>\n",
       "      <td>0</td>\n",
       "      <td>3</td>\n",
       "      <td>2</td>\n",
       "      <td>0</td>\n",
       "      <td>2</td>\n",
       "      <td>0</td>\n",
       "      <td>0</td>\n",
       "      <td>0</td>\n",
       "      <td>0</td>\n",
       "      <td>2</td>\n",
       "      <td>...</td>\n",
       "      <td>2</td>\n",
       "      <td>2</td>\n",
       "      <td>2</td>\n",
       "      <td>2</td>\n",
       "      <td>0</td>\n",
       "      <td>2</td>\n",
       "      <td>2</td>\n",
       "      <td>2</td>\n",
       "      <td>2</td>\n",
       "      <td>0</td>\n",
       "    </tr>\n",
       "  </tbody>\n",
       "</table>\n",
       "<p>5 rows × 7161 columns</p>\n",
       "</div>"
      ],
      "text/plain": [
       "         0     1     2     3     4     5     6     7     8     9     ...  \\\n",
       "HG00096     0     0     0     0     0     0     0     0     0     0  ...   \n",
       "HG00097     0     2     2     0     2     0     0     0     0     2  ...   \n",
       "HG00099     0     1     0     0     0     0     0     0     0     0  ...   \n",
       "HG00100     0     1     1     0     1     0     0     0     0     1  ...   \n",
       "HG00101     0     3     2     0     2     0     0     0     0     2  ...   \n",
       "\n",
       "         7151  7152  7153  7154  7155  7156  7157  7158  7159  7160  \n",
       "HG00096     0     0     0     0     0     0     0     0     0     0  \n",
       "HG00097     1     1     1     1     0     1     1     1     1     0  \n",
       "HG00099     3     3     3     3     0     3     3     3     3     0  \n",
       "HG00100     1     1     1     1     0     1     1     1     1     0  \n",
       "HG00101     2     2     2     2     0     2     2     2     2     0  \n",
       "\n",
       "[5 rows x 7161 columns]"
      ]
     },
     "execution_count": 5,
     "metadata": {},
     "output_type": "execute_result"
    }
   ],
   "source": [
    "X_train = genotype.iloc[:, 9:].replace({\n",
    "    '0|0': 0,\n",
    "    '0|1': 1,\n",
    "    '1|0': 2,\n",
    "    '1|1': 3\n",
    "}).transpose()\n",
    "X_train.head()"
   ]
  },
  {
   "cell_type": "markdown",
   "metadata": {
    "colab_type": "text",
    "id": "UL-Yi-Tz4Lt9"
   },
   "source": [
    "## Load Pedigree"
   ]
  },
  {
   "cell_type": "code",
   "execution_count": 6,
   "metadata": {
    "colab": {},
    "colab_type": "code",
    "id": "ZUZjS-eI4Lt-"
   },
   "outputs": [],
   "source": [
    "ped_file = 'data/integrated_call_samples.20130502.ALL.ped'\n",
    "pedigree = pd.read_csv(ped_file, sep='\\t', index_col='Individual ID')"
   ]
  },
  {
   "cell_type": "code",
   "execution_count": 7,
   "metadata": {
    "colab": {},
    "colab_type": "code",
    "id": "dwtwBB0T4LuA"
   },
   "outputs": [],
   "source": [
    "pedigree['Super Population'] = pedigree['Population']\n",
    "pedigree['Super Population'] = pedigree['Super Population'].replace({\n",
    "    'YRI': 'AFR', 'CEU': 'EUR', 'GWD': 'AFR', 'ESN': 'AFR',\n",
    "    'CHS': 'EAS', 'IBS': 'EUR', 'PJL': 'SAS', 'PUR': 'AMR',\n",
    "    'CLM': 'AMR', 'BEB': 'SAS', 'CHB': 'EAS', 'PEL': 'AMR',\n",
    "    'STU': 'SAS', 'MSL': 'AFR', 'JPT': 'EAS', 'KHV': 'EAS',\n",
    "    'ACB': 'AMR', 'LWK': 'AFR', 'ITU': 'SAS', 'GIH': 'SAS',\n",
    "    'ASW': 'AMR', 'TSI': 'EUR', 'CDX': 'EAS', 'CHD': 'EAS',\n",
    "    'GBR': 'EUR', 'MXL': 'AMR', 'FIN': 'EUR' })"
   ]
  },
  {
   "cell_type": "code",
   "execution_count": 8,
   "metadata": {
    "colab": {
     "base_uri": "https://localhost:8080/",
     "height": 269
    },
    "colab_type": "code",
    "id": "PVSPnAXO4LuC",
    "outputId": "cec4f008-96cf-439c-fef7-09633ba8e824"
   },
   "outputs": [],
   "source": [
    "pedigree['Super Population'] = pedigree['Super Population'].replace({\n",
    "    'EAS': 0,\n",
    "    'EUR': 1,\n",
    "    'AFR': 2,\n",
    "    'AMR': 3,\n",
    "    'SAS': 4\n",
    "})"
   ]
  },
  {
   "cell_type": "markdown",
   "metadata": {},
   "source": [
    "## Training dataset"
   ]
  },
  {
   "cell_type": "code",
   "execution_count": 9,
   "metadata": {},
   "outputs": [
    {
     "data": {
      "text/plain": [
       "HG00096    1\n",
       "HG00097    1\n",
       "HG00099    1\n",
       "HG00100    1\n",
       "HG00101    1\n",
       "          ..\n",
       "NA21137    4\n",
       "NA21141    4\n",
       "NA21142    4\n",
       "NA21143    4\n",
       "NA21144    4\n",
       "Name: Super Population, Length: 2504, dtype: int64"
      ]
     },
     "execution_count": 9,
     "metadata": {},
     "output_type": "execute_result"
    }
   ],
   "source": [
    "# only use EAS, EUR and AFR population\n",
    "Y_train = pedigree.loc[genotype.iloc[:, 9:].columns, :]['Super Population']\n",
    "Y_train"
   ]
  },
  {
   "cell_type": "code",
   "execution_count": 10,
   "metadata": {},
   "outputs": [
    {
     "name": "stdout",
     "output_type": "stream",
     "text": [
      "(2504, 7160)\n"
     ]
    },
    {
     "data": {
      "text/html": [
       "<div>\n",
       "<style scoped>\n",
       "    .dataframe tbody tr th:only-of-type {\n",
       "        vertical-align: middle;\n",
       "    }\n",
       "\n",
       "    .dataframe tbody tr th {\n",
       "        vertical-align: top;\n",
       "    }\n",
       "\n",
       "    .dataframe thead th {\n",
       "        text-align: right;\n",
       "    }\n",
       "</style>\n",
       "<table border=\"1\" class=\"dataframe\">\n",
       "  <thead>\n",
       "    <tr style=\"text-align: right;\">\n",
       "      <th></th>\n",
       "      <th>0</th>\n",
       "      <th>1</th>\n",
       "      <th>2</th>\n",
       "      <th>3</th>\n",
       "      <th>4</th>\n",
       "      <th>5</th>\n",
       "      <th>6</th>\n",
       "      <th>7</th>\n",
       "      <th>8</th>\n",
       "      <th>9</th>\n",
       "      <th>...</th>\n",
       "      <th>7150</th>\n",
       "      <th>7151</th>\n",
       "      <th>7152</th>\n",
       "      <th>7153</th>\n",
       "      <th>7154</th>\n",
       "      <th>7155</th>\n",
       "      <th>7156</th>\n",
       "      <th>7157</th>\n",
       "      <th>7158</th>\n",
       "      <th>7159</th>\n",
       "    </tr>\n",
       "  </thead>\n",
       "  <tbody>\n",
       "    <tr>\n",
       "      <th>HG00096</th>\n",
       "      <td>0</td>\n",
       "      <td>0</td>\n",
       "      <td>0</td>\n",
       "      <td>0</td>\n",
       "      <td>0</td>\n",
       "      <td>0</td>\n",
       "      <td>0</td>\n",
       "      <td>0</td>\n",
       "      <td>0</td>\n",
       "      <td>0</td>\n",
       "      <td>...</td>\n",
       "      <td>0</td>\n",
       "      <td>0</td>\n",
       "      <td>0</td>\n",
       "      <td>0</td>\n",
       "      <td>0</td>\n",
       "      <td>0</td>\n",
       "      <td>0</td>\n",
       "      <td>0</td>\n",
       "      <td>0</td>\n",
       "      <td>0</td>\n",
       "    </tr>\n",
       "    <tr>\n",
       "      <th>HG00097</th>\n",
       "      <td>0</td>\n",
       "      <td>2</td>\n",
       "      <td>2</td>\n",
       "      <td>0</td>\n",
       "      <td>2</td>\n",
       "      <td>0</td>\n",
       "      <td>0</td>\n",
       "      <td>0</td>\n",
       "      <td>0</td>\n",
       "      <td>2</td>\n",
       "      <td>...</td>\n",
       "      <td>1</td>\n",
       "      <td>1</td>\n",
       "      <td>1</td>\n",
       "      <td>1</td>\n",
       "      <td>1</td>\n",
       "      <td>0</td>\n",
       "      <td>1</td>\n",
       "      <td>1</td>\n",
       "      <td>1</td>\n",
       "      <td>1</td>\n",
       "    </tr>\n",
       "    <tr>\n",
       "      <th>HG00099</th>\n",
       "      <td>0</td>\n",
       "      <td>1</td>\n",
       "      <td>0</td>\n",
       "      <td>0</td>\n",
       "      <td>0</td>\n",
       "      <td>0</td>\n",
       "      <td>0</td>\n",
       "      <td>0</td>\n",
       "      <td>0</td>\n",
       "      <td>0</td>\n",
       "      <td>...</td>\n",
       "      <td>1</td>\n",
       "      <td>3</td>\n",
       "      <td>3</td>\n",
       "      <td>3</td>\n",
       "      <td>3</td>\n",
       "      <td>0</td>\n",
       "      <td>3</td>\n",
       "      <td>3</td>\n",
       "      <td>3</td>\n",
       "      <td>3</td>\n",
       "    </tr>\n",
       "    <tr>\n",
       "      <th>HG00100</th>\n",
       "      <td>0</td>\n",
       "      <td>1</td>\n",
       "      <td>1</td>\n",
       "      <td>0</td>\n",
       "      <td>1</td>\n",
       "      <td>0</td>\n",
       "      <td>0</td>\n",
       "      <td>0</td>\n",
       "      <td>0</td>\n",
       "      <td>1</td>\n",
       "      <td>...</td>\n",
       "      <td>0</td>\n",
       "      <td>1</td>\n",
       "      <td>1</td>\n",
       "      <td>1</td>\n",
       "      <td>1</td>\n",
       "      <td>0</td>\n",
       "      <td>1</td>\n",
       "      <td>1</td>\n",
       "      <td>1</td>\n",
       "      <td>1</td>\n",
       "    </tr>\n",
       "    <tr>\n",
       "      <th>HG00101</th>\n",
       "      <td>0</td>\n",
       "      <td>3</td>\n",
       "      <td>2</td>\n",
       "      <td>0</td>\n",
       "      <td>2</td>\n",
       "      <td>0</td>\n",
       "      <td>0</td>\n",
       "      <td>0</td>\n",
       "      <td>0</td>\n",
       "      <td>2</td>\n",
       "      <td>...</td>\n",
       "      <td>2</td>\n",
       "      <td>2</td>\n",
       "      <td>2</td>\n",
       "      <td>2</td>\n",
       "      <td>2</td>\n",
       "      <td>0</td>\n",
       "      <td>2</td>\n",
       "      <td>2</td>\n",
       "      <td>2</td>\n",
       "      <td>2</td>\n",
       "    </tr>\n",
       "  </tbody>\n",
       "</table>\n",
       "<p>5 rows × 7160 columns</p>\n",
       "</div>"
      ],
      "text/plain": [
       "         0     1     2     3     4     5     6     7     8     9     ...  \\\n",
       "HG00096     0     0     0     0     0     0     0     0     0     0  ...   \n",
       "HG00097     0     2     2     0     2     0     0     0     0     2  ...   \n",
       "HG00099     0     1     0     0     0     0     0     0     0     0  ...   \n",
       "HG00100     0     1     1     0     1     0     0     0     0     1  ...   \n",
       "HG00101     0     3     2     0     2     0     0     0     0     2  ...   \n",
       "\n",
       "         7150  7151  7152  7153  7154  7155  7156  7157  7158  7159  \n",
       "HG00096     0     0     0     0     0     0     0     0     0     0  \n",
       "HG00097     1     1     1     1     1     0     1     1     1     1  \n",
       "HG00099     1     3     3     3     3     0     3     3     3     3  \n",
       "HG00100     0     1     1     1     1     0     1     1     1     1  \n",
       "HG00101     2     2     2     2     2     0     2     2     2     2  \n",
       "\n",
       "[5 rows x 7160 columns]"
      ]
     },
     "execution_count": 10,
     "metadata": {},
     "output_type": "execute_result"
    }
   ],
   "source": [
    "X_train = X_train.loc[Y_train.index, :7159]\n",
    "print(X_train.shape)\n",
    "X_train.head()"
   ]
  },
  {
   "cell_type": "code",
   "execution_count": 11,
   "metadata": {},
   "outputs": [
    {
     "data": {
      "text/plain": [
       "(2504, 7160, 4)"
      ]
     },
     "execution_count": 11,
     "metadata": {},
     "output_type": "execute_result"
    }
   ],
   "source": [
    "X_train = to_categorical(X_train)\n",
    "X_train.shape"
   ]
  },
  {
   "cell_type": "code",
   "execution_count": 12,
   "metadata": {},
   "outputs": [],
   "source": [
    "dataset = (X_train, Y_train)"
   ]
  },
  {
   "cell_type": "markdown",
   "metadata": {
    "colab_type": "text",
    "id": "iITgqDhW4LuN"
   },
   "source": [
    "# Build GAN"
   ]
  },
  {
   "cell_type": "code",
   "execution_count": 13,
   "metadata": {
    "colab": {},
    "colab_type": "code",
    "id": "LsfBCC0N4LuO"
   },
   "outputs": [],
   "source": [
    "noise_dim = 100\n",
    "genotype_len = X_train.shape[1]\n",
    "channels = X_train.shape[2]\n",
    "genotype_shape = (genotype_len, channels)\n",
    "num_classes = 5\n",
    "lrelu_alpha = 0.2"
   ]
  },
  {
   "cell_type": "markdown",
   "metadata": {
    "colab_type": "text",
    "id": "QNl6b_qn4LuQ"
   },
   "source": [
    "## Generator"
   ]
  },
  {
   "cell_type": "code",
   "execution_count": 14,
   "metadata": {
    "colab": {},
    "colab_type": "code",
    "id": "YbIht4ck4LuS"
   },
   "outputs": [],
   "source": [
    "def make_generator_model():\n",
    "    # input\n",
    "    noise = layers.Input(shape=(noise_dim, ))\n",
    "\n",
    "    label = layers.Input(shape=(1, ))\n",
    "    label_embedding = layers.Flatten()(layers.Embedding(num_classes, noise_dim)(label))\n",
    "\n",
    "    model_input = layers.multiply([noise, label_embedding])\n",
    "\n",
    "    # network\n",
    "    x = layers.Dense(1790 * 256, use_bias=False, input_shape=(noise_dim, ))(model_input)\n",
    "    x = layers.Reshape((1790, 256))(x)\n",
    "    x = layers.BatchNormalization(epsilon=2e-5, momentum=9e-1)(x)\n",
    "    x = layers.LeakyReLU()(x)\n",
    "\n",
    "    x = layers.Conv1D(256,\n",
    "                      7,\n",
    "                      strides=1,\n",
    "                      padding='same',\n",
    "                      use_bias=False,\n",
    "                      kernel_initializer='glorot_uniform')(x)\n",
    "    x = layers.UpSampling1D(2)(x)\n",
    "    x = layers.BatchNormalization(epsilon=2e-5, momentum=9e-1)(x)\n",
    "    x = layers.LeakyReLU()(x)\n",
    "\n",
    "    x = layers.Conv1D(128,\n",
    "                      5,\n",
    "                      strides=1,\n",
    "                      padding='same',\n",
    "                      use_bias=False,\n",
    "                      kernel_initializer='glorot_uniform')(x)\n",
    "    x = layers.UpSampling1D(2)(x)\n",
    "    x = layers.BatchNormalization(epsilon=2e-5, momentum=9e-1)(x)\n",
    "    x = layers.LeakyReLU()(x)\n",
    "\n",
    "    x = layers.Conv1D(channels,\n",
    "                      5,\n",
    "                      strides=1,\n",
    "                      padding='same',\n",
    "                      activation='softmax')(x)\n",
    "\n",
    "    return Model([noise, label], x)"
   ]
  },
  {
   "cell_type": "code",
   "execution_count": 15,
   "metadata": {
    "colab": {
     "base_uri": "https://localhost:8080/",
     "height": 156
    },
    "colab_type": "code",
    "id": "C0VKq2GE4LuW",
    "outputId": "5ffe6d1b-96d5-4b68-8795-7975850de2d0"
   },
   "outputs": [
    {
     "data": {
      "text/plain": [
       "Text(0.5, 1.0, 'label: [2]')"
      ]
     },
     "execution_count": 15,
     "metadata": {},
     "output_type": "execute_result"
    },
    {
     "data": {
      "image/png": "[encoded data removed]",
      "text/plain": [
       "<Figure size 432x288 with 1 Axes>"
      ]
     },
     "metadata": {
      "needs_background": "light"
     },
     "output_type": "display_data"
    }
   ],
   "source": [
    "generator = make_generator_model()\n",
    "\n",
    "noise = tf.random.normal([1, 100])\n",
    "label = np.random.randint(0, 3, (1, ))\n",
    "generated_genotype = generator([noise, label], training=False)\n",
    "\n",
    "plt.imshow(np.argmax(generated_genotype, axis=2).reshape(40, 179), \n",
    "           cmap=ListedColormap([\"red\", \"blue\", \"yellow\", \"green\"]))\n",
    "plt.title('label: {}'.format(label))"
   ]
  },
  {
   "cell_type": "code",
   "execution_count": 16,
   "metadata": {},
   "outputs": [
    {
     "name": "stdout",
     "output_type": "stream",
     "text": [
      "Model: \"model\"\n",
      "__________________________________________________________________________________________________\n",
      "Layer (type)                    Output Shape         Param #     Connected to                     \n",
      "==================================================================================================\n",
      "input_2 (InputLayer)            [(None, 1)]          0                                            \n",
      "__________________________________________________________________________________________________\n",
      "embedding (Embedding)           (None, 1, 100)       500         input_2[0][0]                    \n",
      "__________________________________________________________________________________________________\n",
      "input_1 (InputLayer)            [(None, 100)]        0                                            \n",
      "__________________________________________________________________________________________________\n",
      "flatten (Flatten)               (None, 100)          0           embedding[0][0]                  \n",
      "__________________________________________________________________________________________________\n",
      "multiply (Multiply)             (None, 100)          0           input_1[0][0]                    \n",
      "                                                                 flatten[0][0]                    \n",
      "__________________________________________________________________________________________________\n",
      "dense (Dense)                   (None, 458240)       45824000    multiply[0][0]                   \n",
      "__________________________________________________________________________________________________\n",
      "reshape (Reshape)               (None, 1790, 256)    0           dense[0][0]                      \n",
      "__________________________________________________________________________________________________\n",
      "batch_normalization (BatchNorma (None, 1790, 256)    1024        reshape[0][0]                    \n",
      "__________________________________________________________________________________________________\n",
      "leaky_re_lu (LeakyReLU)         (None, 1790, 256)    0           batch_normalization[0][0]        \n",
      "__________________________________________________________________________________________________\n",
      "conv1d (Conv1D)                 (None, 1790, 256)    458752      leaky_re_lu[0][0]                \n",
      "__________________________________________________________________________________________________\n",
      "up_sampling1d (UpSampling1D)    (None, 3580, 256)    0           conv1d[0][0]                     \n",
      "__________________________________________________________________________________________________\n",
      "batch_normalization_1 (BatchNor (None, 3580, 256)    1024        up_sampling1d[0][0]              \n",
      "__________________________________________________________________________________________________\n",
      "leaky_re_lu_1 (LeakyReLU)       (None, 3580, 256)    0           batch_normalization_1[0][0]      \n",
      "__________________________________________________________________________________________________\n",
      "conv1d_1 (Conv1D)               (None, 3580, 128)    163840      leaky_re_lu_1[0][0]              \n",
      "__________________________________________________________________________________________________\n",
      "up_sampling1d_1 (UpSampling1D)  (None, 7160, 128)    0           conv1d_1[0][0]                   \n",
      "__________________________________________________________________________________________________\n",
      "batch_normalization_2 (BatchNor (None, 7160, 128)    512         up_sampling1d_1[0][0]            \n",
      "__________________________________________________________________________________________________\n",
      "leaky_re_lu_2 (LeakyReLU)       (None, 7160, 128)    0           batch_normalization_2[0][0]      \n",
      "__________________________________________________________________________________________________\n",
      "conv1d_2 (Conv1D)               (None, 7160, 4)      2564        leaky_re_lu_2[0][0]              \n",
      "==================================================================================================\n",
      "Total params: 46,452,216\n",
      "Trainable params: 46,450,936\n",
      "Non-trainable params: 1,280\n",
      "__________________________________________________________________________________________________\n"
     ]
    }
   ],
   "source": [
    "generator.summary()"
   ]
  },
  {
   "cell_type": "markdown",
   "metadata": {
    "colab_type": "text",
    "id": "TzyrknUx4LuZ"
   },
   "source": [
    "## Discriminator"
   ]
  },
  {
   "cell_type": "code",
   "execution_count": 17,
   "metadata": {
    "colab": {},
    "colab_type": "code",
    "id": "7lsQ-3p9hoCS"
   },
   "outputs": [],
   "source": [
    "class ClipConstraint(constraints.Constraint):\n",
    "    # set clip value when initialized\n",
    "    def __init__(self, clip_value):\n",
    "        self.clip_value = clip_value\n",
    "\n",
    "    # clip model weights to hypercube\n",
    "    def __call__(self, weights):\n",
    "        return K.clip(weights, -self.clip_value, self.clip_value)\n",
    "\n",
    "    # get the config\n",
    "    def get_config(self):\n",
    "        return {'clip_value': self.clip_value}\n",
    "\n",
    "\n",
    "const = ClipConstraint(0.01)"
   ]
  },
  {
   "cell_type": "code",
   "execution_count": 18,
   "metadata": {
    "colab": {},
    "colab_type": "code",
    "id": "P38rAwEc4LuZ"
   },
   "outputs": [],
   "source": [
    "def make_discriminator_model():\n",
    "    genotype = layers.Input(shape=genotype_shape)\n",
    "    label = layers.Input(shape=(1, ), dtype='int32')\n",
    "\n",
    "    flat_genotype = layers.Flatten()(genotype)\n",
    "    label_embedding = layers.Flatten()(layers.Embedding(num_classes, genotype_len * channels)(label))\n",
    "\n",
    "    model_input = layers.multiply([flat_genotype, label_embedding])\n",
    "    model_input = layers.Reshape((genotype_len, channels))(model_input)\n",
    "\n",
    "    x = layers.LeakyReLU()(model_input)\n",
    "    x = layers.Dropout(0.3)(x)\n",
    "\n",
    "    x = layers.Conv1D(64,\n",
    "                      5,\n",
    "                      strides=2,\n",
    "                      padding='same',\n",
    "                      kernel_constraint=const,\n",
    "                      kernel_initializer='glorot_uniform')(x)\n",
    "    x = layers.LeakyReLU()(x)\n",
    "    x = layers.Dropout(0.3)(x)\n",
    "\n",
    "    x = layers.Conv1D(128,\n",
    "                      7,\n",
    "                      strides=2,\n",
    "                      padding='same',\n",
    "                      kernel_constraint=const,\n",
    "                      kernel_initializer='glorot_uniform')(x)\n",
    "    x = layers.LeakyReLU()(x)\n",
    "    x = layers.Dropout(0.3)(x)\n",
    "\n",
    "    x = layers.Flatten()(x)\n",
    "\n",
    "    x = layers.Dense(512, kernel_initializer='glorot_uniform')(x)\n",
    "    x = layers.LeakyReLU()(x)\n",
    "    x = layers.Dense(1, kernel_initializer='glorot_uniform')(x)\n",
    "\n",
    "    return Model([genotype, label], x)"
   ]
  },
  {
   "cell_type": "code",
   "execution_count": 19,
   "metadata": {
    "colab": {
     "base_uri": "https://localhost:8080/",
     "height": 34
    },
    "colab_type": "code",
    "id": "f1JhXwQR4Lub",
    "outputId": "f704bfe0-cb76-425a-db5c-d596463b7b91",
    "scrolled": true
   },
   "outputs": [
    {
     "name": "stdout",
     "output_type": "stream",
     "text": [
      "tf.Tensor([[-0.00105491]], shape=(1, 1), dtype=float32)\n"
     ]
    }
   ],
   "source": [
    "# Use the (as yet untrained) discriminator \n",
    "# to classify the generated images as real or fake.\n",
    "discriminator = make_discriminator_model()\n",
    "decision = discriminator([generated_genotype, label])\n",
    "print(decision)"
   ]
  },
  {
   "cell_type": "code",
   "execution_count": 20,
   "metadata": {},
   "outputs": [
    {
     "name": "stdout",
     "output_type": "stream",
     "text": [
      "Model: \"model_1\"\n",
      "__________________________________________________________________________________________________\n",
      "Layer (type)                    Output Shape         Param #     Connected to                     \n",
      "==================================================================================================\n",
      "input_4 (InputLayer)            [(None, 1)]          0                                            \n",
      "__________________________________________________________________________________________________\n",
      "input_3 (InputLayer)            [(None, 7160, 4)]    0                                            \n",
      "__________________________________________________________________________________________________\n",
      "embedding_1 (Embedding)         (None, 1, 28640)     143200      input_4[0][0]                    \n",
      "__________________________________________________________________________________________________\n",
      "flatten_1 (Flatten)             (None, 28640)        0           input_3[0][0]                    \n",
      "__________________________________________________________________________________________________\n",
      "flatten_2 (Flatten)             (None, 28640)        0           embedding_1[0][0]                \n",
      "__________________________________________________________________________________________________\n",
      "multiply_1 (Multiply)           (None, 28640)        0           flatten_1[0][0]                  \n",
      "                                                                 flatten_2[0][0]                  \n",
      "__________________________________________________________________________________________________\n",
      "reshape_1 (Reshape)             (None, 7160, 4)      0           multiply_1[0][0]                 \n",
      "__________________________________________________________________________________________________\n",
      "leaky_re_lu_3 (LeakyReLU)       (None, 7160, 4)      0           reshape_1[0][0]                  \n",
      "__________________________________________________________________________________________________\n",
      "dropout (Dropout)               (None, 7160, 4)      0           leaky_re_lu_3[0][0]              \n",
      "__________________________________________________________________________________________________\n",
      "conv1d_3 (Conv1D)               (None, 3580, 64)     1344        dropout[0][0]                    \n",
      "__________________________________________________________________________________________________\n",
      "leaky_re_lu_4 (LeakyReLU)       (None, 3580, 64)     0           conv1d_3[0][0]                   \n",
      "__________________________________________________________________________________________________\n",
      "dropout_1 (Dropout)             (None, 3580, 64)     0           leaky_re_lu_4[0][0]              \n",
      "__________________________________________________________________________________________________\n",
      "conv1d_4 (Conv1D)               (None, 1790, 128)    57472       dropout_1[0][0]                  \n",
      "__________________________________________________________________________________________________\n",
      "leaky_re_lu_5 (LeakyReLU)       (None, 1790, 128)    0           conv1d_4[0][0]                   \n",
      "__________________________________________________________________________________________________\n",
      "dropout_2 (Dropout)             (None, 1790, 128)    0           leaky_re_lu_5[0][0]              \n",
      "__________________________________________________________________________________________________\n",
      "flatten_3 (Flatten)             (None, 229120)       0           dropout_2[0][0]                  \n",
      "__________________________________________________________________________________________________\n",
      "dense_1 (Dense)                 (None, 512)          117309952   flatten_3[0][0]                  \n",
      "__________________________________________________________________________________________________\n",
      "leaky_re_lu_6 (LeakyReLU)       (None, 512)          0           dense_1[0][0]                    \n",
      "__________________________________________________________________________________________________\n",
      "dense_2 (Dense)                 (None, 1)            513         leaky_re_lu_6[0][0]              \n",
      "==================================================================================================\n",
      "Total params: 117,512,481\n",
      "Trainable params: 117,512,481\n",
      "Non-trainable params: 0\n",
      "__________________________________________________________________________________________________\n"
     ]
    }
   ],
   "source": [
    "discriminator.summary()"
   ]
  },
  {
   "cell_type": "markdown",
   "metadata": {
    "colab_type": "text",
    "id": "JPkRMOdi4Luc"
   },
   "source": [
    "## Loss"
   ]
  },
  {
   "cell_type": "code",
   "execution_count": 21,
   "metadata": {},
   "outputs": [],
   "source": [
    "# wasserstein_loss\n",
    "def generator_loss(fake_output):\n",
    "    return -tf.reduce_mean(fake_output)\n",
    "\n",
    "def discriminator_loss(real_output, fake_output):\n",
    "    return -tf.reduce_mean(real_output) + tf.reduce_mean(fake_output)"
   ]
  },
  {
   "cell_type": "code",
   "execution_count": 22,
   "metadata": {},
   "outputs": [],
   "source": [
    "# # hinge_loss\n",
    "# hinge_loss = tf.keras.losses.Hinge()\n",
    "\n",
    "# def discriminator_loss(real_output, fake_output):\n",
    "#     real_loss = hinge_loss(tf.ones_like(real_output), real_output)\n",
    "#     fake_loss = hinge_loss(tf.math.negative(tf.ones_like(fake_output)),\n",
    "#                            fake_output)\n",
    "#     total_loss = real_loss + fake_loss\n",
    "#     return total_loss\n",
    "\n",
    "# def generator_loss(fake_output):\n",
    "#     return hinge_loss(tf.ones_like(fake_output), fake_output)"
   ]
  },
  {
   "cell_type": "markdown",
   "metadata": {
    "colab_type": "text",
    "id": "Y0ZSxcba4Lui"
   },
   "source": [
    "## Optimizer"
   ]
  },
  {
   "cell_type": "code",
   "execution_count": 23,
   "metadata": {
    "colab": {},
    "colab_type": "code",
    "id": "tlSE1u3f4Lui"
   },
   "outputs": [],
   "source": [
    "# RMSprop optimizer\n",
    "generator_optimizer = tf.keras.optimizers.RMSprop(5e-5)\n",
    "discriminator_optimizer=tf.keras.optimizers.RMSprop(5e-5)"
   ]
  },
  {
   "cell_type": "code",
   "execution_count": 24,
   "metadata": {},
   "outputs": [],
   "source": [
    "# # Adam optimizer\n",
    "# BETA_1 = 0.5\n",
    "# BETA_2 = 0.9\n",
    "# generator_optimizer = tf.keras.optimizers.Adam(1e-4,\n",
    "#                                                beta_1=BETA_1,\n",
    "#                                                beta_2=BETA_2,\n",
    "#                                                amsgrad=True)\n",
    "# discriminator_optimizer = tf.keras.optimizers.Adam(1e-4,\n",
    "#                                                    beta_1=BETA_1,\n",
    "#                                                    beta_2=BETA_2,\n",
    "#                                                    amsgrad=True)"
   ]
  },
  {
   "cell_type": "markdown",
   "metadata": {
    "colab_type": "text",
    "id": "vUWXkWh_4Luk"
   },
   "source": [
    "# Training"
   ]
  },
  {
   "cell_type": "code",
   "execution_count": 25,
   "metadata": {
    "colab": {},
    "colab_type": "code",
    "id": "Cxz_HIJt4Lun"
   },
   "outputs": [],
   "source": [
    "num_examples_to_generate = num_classes * 2\n",
    "\n",
    "# We will reuse this seed overtime (so it's easier)\n",
    "# to visualize progress in the animated GIF)\n",
    "noise = tf.random.normal([num_examples_to_generate, noise_dim])\n",
    "label = np.array([0, 0, 1, 1, 2, 2, 3, 3, 4, 4])\n",
    "seed = [noise, label]"
   ]
  },
  {
   "cell_type": "code",
   "execution_count": 26,
   "metadata": {
    "colab": {},
    "colab_type": "code",
    "id": "wTD1ZtuD4Lup"
   },
   "outputs": [],
   "source": [
    "# larger value to make a better discriminator in training process.\n",
    "num_repeat_disc = 4\n",
    "\n",
    "# Notice the use of `tf.function`\n",
    "# This annotation causes the function to be \"compiled\".\n",
    "@tf.function\n",
    "def train_step(batch_size, genotypes, labels):\n",
    "    # train disc\n",
    "    for _ in range(num_repeat_disc):\n",
    "        noise = tf.random.normal([batch_size, noise_dim])\n",
    "        with tf.GradientTape() as disc_tape:\n",
    "            generated_genotypes = generator([noise, labels], training=False)\n",
    "            real_output = discriminator([genotypes, labels], training=True)\n",
    "            fake_output = discriminator([generated_genotypes, labels], training=True)\n",
    "            \n",
    "            disc_loss = discriminator_loss(real_output, fake_output)\n",
    "\n",
    "            gradients_of_discriminator = disc_tape.gradient(disc_loss, discriminator.trainable_variables)\n",
    "        discriminator_optimizer.apply_gradients(zip(gradients_of_discriminator, discriminator.trainable_variables))\n",
    "    \n",
    "    # train both\n",
    "    noise = tf.random.normal([batch_size, noise_dim])\n",
    "    with tf.GradientTape() as gen_tape, tf.GradientTape() as disc_tape:\n",
    "        generated_genotypes = generator([noise, labels], training=True)\n",
    "        real_output = discriminator([genotypes, labels], training=True)\n",
    "        fake_output = discriminator([generated_genotypes, labels], training=True)\n",
    "\n",
    "        gen_loss = generator_loss(fake_output)\n",
    "        disc_loss = discriminator_loss(real_output, fake_output)\n",
    "\n",
    "        gradients_of_generator = gen_tape.gradient(gen_loss, generator.trainable_variables)\n",
    "        gradients_of_discriminator = disc_tape.gradient(disc_loss, discriminator.trainable_variables)\n",
    "\n",
    "    generator_optimizer.apply_gradients(zip(gradients_of_generator, generator.trainable_variables))\n",
    "    discriminator_optimizer.apply_gradients(zip(gradients_of_discriminator, discriminator.trainable_variables))\n",
    "\n",
    "    return gen_loss, disc_loss"
   ]
  },
  {
   "cell_type": "code",
   "execution_count": 27,
   "metadata": {
    "colab": {},
    "colab_type": "code",
    "id": "XqPV9xsJ4Luq"
   },
   "outputs": [],
   "source": [
    "checkpoint_dir = \".training_checkpoints/HLA/PG-cGAN\"\n",
    "checkpoint_prefix = os.path.join(checkpoint_dir, \"wgan\")\n",
    "checkpoint = tf.train.Checkpoint(generator_optimizer=generator_optimizer,\n",
    "                                 discriminator_optimizer=discriminator_optimizer,\n",
    "                                 generator=generator,\n",
    "                                 discriminator=discriminator)"
   ]
  },
  {
   "cell_type": "code",
   "execution_count": 28,
   "metadata": {
    "colab": {},
    "colab_type": "code",
    "id": "6WcnFaei4Lus"
   },
   "outputs": [],
   "source": [
    "def generate_and_save_images(model, epoch, test_input):\n",
    "    # Notice `training` is set to False.\n",
    "    # This is so all layers run in inference mode (batchnorm).\n",
    "    predictions = model(test_input, training=False)\n",
    "\n",
    "    fig = plt.figure(figsize=(8, 12))\n",
    "    for i in range(predictions.shape[0]):\n",
    "        plt.subplot(5, 2, i + 1)\n",
    "        plt.imshow(np.argmax(predictions[i], axis=1).reshape(40, 179), \n",
    "                   ListedColormap([\"red\", \"blue\", \"yellow\", \"green\"]))\n",
    "        plt.title('label: {}'.format(test_input[1][i]))\n",
    "        plt.axis('off')\n",
    "    \n",
    "    fig.tight_layout(h_pad=-35)\n",
    "    plt.show()"
   ]
  },
  {
   "cell_type": "code",
   "execution_count": 29,
   "metadata": {
    "colab": {},
    "colab_type": "code",
    "id": "A-v3TqYs4Lut"
   },
   "outputs": [],
   "source": [
    "def train(dataset, epochs, batch_size):\n",
    "    gen_loss_log, disc_loss_log = [], []\n",
    "\n",
    "    for epoch in range(epochs):\n",
    "        start = time.time()\n",
    "        \n",
    "        # shuffle and batch the data\n",
    "        train_dataset = tf.data.Dataset.from_tensor_slices(dataset)\\\n",
    "                          .shuffle(X_train.shape[0])\\\n",
    "                          .batch(batch_size, drop_remainder=True)\n",
    "\n",
    "        for genotype_batch, label_batch in train_dataset:\n",
    "            gen_loss, disc_loss = train_step(batch_size, genotype_batch, label_batch)\n",
    "\n",
    "        # append loss of last batch\n",
    "        gen_loss_log.append(gen_loss.numpy())\n",
    "        disc_loss_log.append(disc_loss.numpy())\n",
    "\n",
    "        # Produce images for the GIF as we go\n",
    "        if (epoch + 1) % 10 == 0:\n",
    "            display.clear_output(wait=True)\n",
    "            generate_and_save_images(generator, epoch + 1, seed)\n",
    "            \n",
    "        # Save the model every 50 epochs\n",
    "        if (epoch + 1) % 50 == 0:\n",
    "            checkpoint.save(file_prefix=checkpoint_prefix)\n",
    "        \n",
    "        # print loss of last batch\n",
    "        print('gen_loss: {}, disc_loss: {}'.format(gen_loss.numpy(), disc_loss.numpy()))\n",
    "        print('Time for epoch {} is {} sec'.format(epoch + 1, time.time() - start))\n",
    "    \n",
    "    return gen_loss_log, disc_loss_log"
   ]
  },
  {
   "cell_type": "code",
   "execution_count": 30,
   "metadata": {
    "colab": {
     "base_uri": "https://localhost:8080/",
     "height": 949
    },
    "colab_type": "code",
    "id": "-Vl8G0lP4Luu",
    "outputId": "e9a04e45-84ea-4176-9a80-d80fe8591072",
    "scrolled": false
   },
   "outputs": [
    {
     "data": {
      "image/png": "[encoded data removed]",
      "text/plain": [
       "<Figure size 576x864 with 10 Axes>"
      ]
     },
     "metadata": {
      "needs_background": "light"
     },
     "output_type": "display_data"
    },
    {
     "name": "stdout",
     "output_type": "stream",
     "text": [
      "gen_loss: -8673.76171875, disc_loss: -644.6044921875\n",
      "Time for epoch 50 is 23.59096884727478 sec\n"
     ]
    }
   ],
   "source": [
    "EPOCHS = 50\n",
    "# EPOCHS = 5000\n",
    "gen_loss_log, disc_loss_log = train(dataset, epochs=EPOCHS, batch_size=64)"
   ]
  },
  {
   "cell_type": "code",
   "execution_count": 31,
   "metadata": {
    "colab": {
     "base_uri": "https://localhost:8080/",
     "height": 265
    },
    "colab_type": "code",
    "id": "DoCcCVCt4Luw",
    "outputId": "0275b936-b515-42a9-ff2f-62eae73f33c9",
    "scrolled": false
   },
   "outputs": [
    {
     "data": {
      "image/png": "[encoded data removed]",
      "text/plain": [
       "<Figure size 432x288 with 1 Axes>"
      ]
     },
     "metadata": {
      "needs_background": "light"
     },
     "output_type": "display_data"
    }
   ],
   "source": [
    "plt.plot(range(EPOCHS), gen_loss_log, 'r')\n",
    "plt.plot(range(EPOCHS), disc_loss_log, 'b')\n",
    "plt.show()"
   ]
  },
  {
   "cell_type": "code",
   "execution_count": null,
   "metadata": {},
   "outputs": [],
   "source": []
  }
 ],
 "metadata": {
  "accelerator": "GPU",
  "colab": {
   "collapsed_sections": [
    "n3GCweT34LvQ",
    "8jbzbgUs4LvZ",
    "MNOyncGK4Lvj",
    "_v0CMdXo4Lvs"
   ],
   "machine_shape": "hm",
   "name": "HLA-Genotype-cGAN_023_my_call_06.ipynb",
   "provenance": []
  },
  "kernelspec": {
   "display_name": "Python 3",
   "language": "python",
   "name": "python3"
  },
  "language_info": {
   "codemirror_mode": {
    "name": "ipython",
    "version": 3
   },
   "file_extension": ".py",
   "mimetype": "text/x-python",
   "name": "python",
   "nbconvert_exporter": "python",
   "pygments_lexer": "ipython3",
   "version": "3.6.8"
  },
  "toc": {
   "base_numbering": 1,
   "nav_menu": {},
   "number_sections": true,
   "sideBar": true,
   "skip_h1_title": false,
   "title_cell": "Table of Contents",
   "title_sidebar": "Contents",
   "toc_cell": true,
   "toc_position": {
    "height": "calc(100% - 180px)",
    "left": "10px",
    "top": "150px",
    "width": "207px"
   },
   "toc_section_display": true,
   "toc_window_display": true
  }
 },
 "nbformat": 4,
 "nbformat_minor": 1
}
